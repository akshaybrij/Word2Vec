{
 "cells": [
  {
   "cell_type": "code",
   "execution_count": 17,
   "metadata": {
    "collapsed": true
   },
   "outputs": [],
   "source": [
    "import numpy as np\n",
    "import nltk\n",
    "from gensim.models import word2vec as w2v\n",
    "import codecs\n",
    "import glob\n",
    "from nltk.tokenize import sent_tokenize,word_tokenize\n",
    "import pprint\n",
    "import multiprocessing"
   ]
  },
  {
   "cell_type": "code",
   "execution_count": 2,
   "metadata": {
    "collapsed": false
   },
   "outputs": [
    {
     "name": "stdout",
     "output_type": "stream",
     "text": [
      "['data/got1.txt', 'data/got2.txt', 'data/got3.txt', 'data/got4.txt', 'data/got5.txt']\n"
     ]
    }
   ],
   "source": [
    "df=sorted(glob.glob('data/*.txt'))\n",
    "print df"
   ]
  },
  {
   "cell_type": "code",
   "execution_count": 3,
   "metadata": {
    "collapsed": false
   },
   "outputs": [],
   "source": [
    "corpus=u''\n",
    "for x in df:\n",
    "    with codecs.open(x,'r','utf-8') as mf:\n",
    "        corpus+=mf.read()"
   ]
  },
  {
   "cell_type": "code",
   "execution_count": 11,
   "metadata": {
    "collapsed": false
   },
   "outputs": [
    {
     "name": "stdout",
     "output_type": "stream",
     "text": [
      "9719485\n"
     ]
    }
   ],
   "source": [
    "print len(corpus)"
   ]
  },
  {
   "cell_type": "code",
   "execution_count": 12,
   "metadata": {
    "collapsed": true
   },
   "outputs": [],
   "source": [
    "lf=sent_tokenize(corpus)"
   ]
  },
  {
   "cell_type": "code",
   "execution_count": 13,
   "metadata": {
    "collapsed": false
   },
   "outputs": [
    {
     "name": "stdout",
     "output_type": "stream",
     "text": [
      "[u'This edition contains the complete text of the original hardcover edition.', u'NOT ONE WORD HAS BEEN OMITTED.', u'A CLASH OF KINGS\\n\\nA Bantam Spectra Book\\n\\nPUBLISHING HISTORY\\n\\nBantam Spectra hardcover edition published February 1999\\n\\nBantam Spectra paperback edition / September 2000\\n\\nSPECTRA and the portrayal of a boxed \\u201cs\\u201d are trademarks of Bantam Books, a division of Random House, Inc.\\n\\nAll rights reserved.', u'Copyright \\xa9 1999 by George R. R. Martin.', u'Maps by James Sinclair.', u'Heraldic crest by Virginia Norey.', u'Library of Congress Catalog Card Number: 98-37954.', u'No part of this book may be reproduced or transmitted in any form or by any means, electronic or mechanical, including photocopying, recording, or by any information storage and retrieval system, without permission in writing from the publisher.', u'Visit our website at www.bantamdell.com\\n\\nBantam Books, the rooster colophon, Spectra and the portrayal of a boxed \\u201cs\\u201d are registered trademarks of Random House Inc.\\n\\neISBN: 978-0-553-89785-2\\n\\nv3.0_r1\\n\\n\\n\\n\\n\\nCONTENTS\\n\\n\\nCOVER\\n\\nTITLE PAGE\\n\\nCOPYRIGHT\\n\\nDEDICATION\\n\\nMAPS\\n\\nPROLOGUE\\n\\n\\n\\nARYA\\n\\nSANSA\\n\\nTYRION\\n\\nBRAN\\n\\nARYA\\n\\nJON\\n\\nCATELYN\\n\\nTYRION\\n\\nARYA\\n\\nDAVOS\\n\\nTHEON\\n\\nDAENERYS\\n\\nJON\\n\\nARYA\\n\\nTYRION\\n\\nBRAN\\n\\nTYRION\\n\\nSANSA\\n\\nARYA\\n\\nTYRION\\n\\nBRAN\\n\\nCATELYN\\n\\nJON\\n\\nTHEON\\n\\nTYRION\\n\\nARYA\\n\\nDAENERYS\\n\\nBRAN\\n\\nTYRION\\n\\nARYA\\n\\nCATELYN\\n\\nSANSA\\n\\nCATELYN\\n\\nJON\\n\\nBRAN\\n\\nTYRION\\n\\nTHEON\\n\\nARYA\\n\\nCATELYN\\n\\nDAENERYS\\n\\nTYRION\\n\\nDAVOS\\n\\nJON\\n\\nTYRION\\n\\nCATELYN\\n\\nBRAN\\n\\nARYA\\n\\nDAENERYS\\n\\nTYRION\\n\\nTHEON\\n\\nJON\\n\\nSANSA\\n\\nJON\\n\\nTYRION\\n\\nCATELYN\\n\\nTHEON\\n\\nSANSA\\n\\nDAVOS\\n\\nTYRION\\n\\nSANSA\\n\\nTYRION\\n\\nSANSA\\n\\nDAENERYS\\n\\nARYA\\n\\nSANSA\\n\\nTHEON\\n\\nTYRION\\n\\nJON\\n\\nBRAN\\n\\nAPPENDIX\\n\\nTHE KINGS AND THEIR COURTS\\n\\nTHE KING ON THE IRON THRONE\\n\\nTHE KING IN THE NARROW SEA\\n\\nTHE KING IN HIGHGARDEN\\n\\nTHE KING IN THE NORTH\\n\\nTHE QUEEN ACROSS THE WATER\\n\\nOTHER HOUSES GREAT AND SMALL\\n\\nHOUSE ARRYN\\n\\nHOUSE FLORENT\\n\\nHOUSE FREY\\n\\nHOUSE GREYJOY\\n\\nHOUSE LANNISTER\\n\\nHOUSE MARTELL\\n\\nHOUSE TYRELL\\n\\nTHE MEN OF THE NIGHT\\u2019S WATCH\\n\\nACKNOWLEDGMENTS\\n\\n\\n\\n\\n\\nTo John and Gail\\n\\nfor all the meat and mead we\\u2019ve shared\\n\\n\\n\\n\\n\\nPROLOGUE\\n\\nThe comet\\u2019s tail spread across the dawn, a red slash that bled above the crags of Dragonstone like a wound in the pink and purple sky.', u'The maester stood on the windswept balcony outside his chambers.']\n"
     ]
    }
   ],
   "source": [
    "print lf[:10]"
   ]
  },
  {
   "cell_type": "code",
   "execution_count": 23,
   "metadata": {
    "collapsed": false
   },
   "outputs": [],
   "source": [
    "voc=[]\n",
    "for i in lf:\n",
    "    voc.append(word_tokenize(i))\n",
    "             "
   ]
  },
  {
   "cell_type": "code",
   "execution_count": 24,
   "metadata": {
    "collapsed": false
   },
   "outputs": [
    {
     "name": "stdout",
     "output_type": "stream",
     "text": [
      "[[u'This', u'edition', u'contains', u'the', u'complete', u'text', u'of', u'the', u'original', u'hardcover', u'edition', u'.'], [u'NOT', u'ONE', u'WORD', u'HAS', u'BEEN', u'OMITTED', u'.'], [u'A', u'CLASH', u'OF', u'KINGS', u'A', u'Bantam', u'Spectra', u'Book', u'PUBLISHING', u'HISTORY', u'Bantam', u'Spectra', u'hardcover', u'edition', u'published', u'February', u'1999', u'Bantam', u'Spectra', u'paperback', u'edition', u'/', u'September', u'2000', u'SPECTRA', u'and', u'the', u'portrayal', u'of', u'a', u'boxed', u'\\u201cs\\u201d', u'are', u'trademarks', u'of', u'Bantam', u'Books', u',', u'a', u'division', u'of', u'Random', u'House', u',', u'Inc.', u'All', u'rights', u'reserved', u'.'], [u'Copyright', u'\\xa9', u'1999', u'by', u'George', u'R.', u'R.', u'Martin', u'.'], [u'Maps', u'by', u'James', u'Sinclair', u'.'], [u'Heraldic', u'crest', u'by', u'Virginia', u'Norey', u'.'], [u'Library', u'of', u'Congress', u'Catalog', u'Card', u'Number', u':', u'98-37954', u'.'], [u'No', u'part', u'of', u'this', u'book', u'may', u'be', u'reproduced', u'or', u'transmitted', u'in', u'any', u'form', u'or', u'by', u'any', u'means', u',', u'electronic', u'or', u'mechanical', u',', u'including', u'photocopying', u',', u'recording', u',', u'or', u'by', u'any', u'information', u'storage', u'and', u'retrieval', u'system', u',', u'without', u'permission', u'in', u'writing', u'from', u'the', u'publisher', u'.'], [u'Visit', u'our', u'website', u'at', u'www.bantamdell.com', u'Bantam', u'Books', u',', u'the', u'rooster', u'colophon', u',', u'Spectra', u'and', u'the', u'portrayal', u'of', u'a', u'boxed', u'\\u201cs\\u201d', u'are', u'registered', u'trademarks', u'of', u'Random', u'House', u'Inc.', u'eISBN', u':', u'978-0-553-89785-2', u'v3.0_r1', u'CONTENTS', u'COVER', u'TITLE', u'PAGE', u'COPYRIGHT', u'DEDICATION', u'MAPS', u'PROLOGUE', u'ARYA', u'SANSA', u'TYRION', u'BRAN', u'ARYA', u'JON', u'CATELYN', u'TYRION', u'ARYA', u'DAVOS', u'THEON', u'DAENERYS', u'JON', u'ARYA', u'TYRION', u'BRAN', u'TYRION', u'SANSA', u'ARYA', u'TYRION', u'BRAN', u'CATELYN', u'JON', u'THEON', u'TYRION', u'ARYA', u'DAENERYS', u'BRAN', u'TYRION', u'ARYA', u'CATELYN', u'SANSA', u'CATELYN', u'JON', u'BRAN', u'TYRION', u'THEON', u'ARYA', u'CATELYN', u'DAENERYS', u'TYRION', u'DAVOS', u'JON', u'TYRION', u'CATELYN', u'BRAN', u'ARYA', u'DAENERYS', u'TYRION', u'THEON', u'JON', u'SANSA', u'JON', u'TYRION', u'CATELYN', u'THEON', u'SANSA', u'DAVOS', u'TYRION', u'SANSA', u'TYRION', u'SANSA', u'DAENERYS', u'ARYA', u'SANSA', u'THEON', u'TYRION', u'JON', u'BRAN', u'APPENDIX', u'THE', u'KINGS', u'AND', u'THEIR', u'COURTS', u'THE', u'KING', u'ON', u'THE', u'IRON', u'THRONE', u'THE', u'KING', u'IN', u'THE', u'NARROW', u'SEA', u'THE', u'KING', u'IN', u'HIGHGARDEN', u'THE', u'KING', u'IN', u'THE', u'NORTH', u'THE', u'QUEEN', u'ACROSS', u'THE', u'WATER', u'OTHER', u'HOUSES', u'GREAT', u'AND', u'SMALL', u'HOUSE', u'ARRYN', u'HOUSE', u'FLORENT', u'HOUSE', u'FREY', u'HOUSE', u'GREYJOY', u'HOUSE', u'LANNISTER', u'HOUSE', u'MARTELL', u'HOUSE', u'TYRELL', u'THE', u'MEN', u'OF', u'THE', u'NIGHT\\u2019S', u'WATCH', u'ACKNOWLEDGMENTS', u'To', u'John', u'and', u'Gail', u'for', u'all', u'the', u'meat', u'and', u'mead', u'we\\u2019ve', u'shared', u'PROLOGUE', u'The', u'comet\\u2019s', u'tail', u'spread', u'across', u'the', u'dawn', u',', u'a', u'red', u'slash', u'that', u'bled', u'above', u'the', u'crags', u'of', u'Dragonstone', u'like', u'a', u'wound', u'in', u'the', u'pink', u'and', u'purple', u'sky', u'.'], [u'The', u'maester', u'stood', u'on', u'the', u'windswept', u'balcony', u'outside', u'his', u'chambers', u'.']]\n"
     ]
    }
   ],
   "source": [
    "print voc[:10]"
   ]
  },
  {
   "cell_type": "code",
   "execution_count": 26,
   "metadata": {
    "collapsed": true
   },
   "outputs": [],
   "source": [
    "num_features=300\n",
    "seed=1\n",
    "min_word_count=3\n",
    "num_worker=multiprocessing.cpu_count()\n",
    "contextSize=7\n",
    "downsample=1e-3"
   ]
  },
  {
   "cell_type": "code",
   "execution_count": 33,
   "metadata": {
    "collapsed": false
   },
   "outputs": [],
   "source": [
    "throne2v=w2v.Word2Vec(sg=1,seed=seed,\n",
    "                     workers=num_worker,\n",
    "                     size=num_features,\n",
    "                     window=contextSize,\n",
    "                     min_count=min_word_count,\n",
    "                     sample=downsample)"
   ]
  },
  {
   "cell_type": "code",
   "execution_count": 34,
   "metadata": {
    "collapsed": true
   },
   "outputs": [],
   "source": [
    "throne2v.build_vocab(m)"
   ]
  },
  {
   "cell_type": "code",
   "execution_count": 35,
   "metadata": {
    "collapsed": false
   },
   "outputs": [
    {
     "data": {
      "text/plain": [
       "7362086"
      ]
     },
     "execution_count": 35,
     "metadata": {},
     "output_type": "execute_result"
    }
   ],
   "source": [
    "throne2v.train(m)"
   ]
  },
  {
   "cell_type": "code",
   "execution_count": 36,
   "metadata": {
    "collapsed": true
   },
   "outputs": [],
   "source": [
    "import os\n",
    "throne2v.save(os.path.join(\"trained\",\"t2v.vec\"))"
   ]
  },
  {
   "cell_type": "code",
   "execution_count": 37,
   "metadata": {
    "collapsed": true
   },
   "outputs": [],
   "source": [
    "throne2v=w2v.Word2Vec.load(os.path.join(\"trained\",\"t2v.vec\"))"
   ]
  },
  {
   "cell_type": "code",
   "execution_count": 109,
   "metadata": {
    "collapsed": false
   },
   "outputs": [
    {
     "data": {
      "text/plain": [
       "[(u'debts.\\u201d', 0.6615325212478638),\n",
       " (u'Tywin', 0.6371171474456787),\n",
       " (u'debts', 0.63210129737854),\n",
       " (u'pays', 0.6308518052101135),\n",
       " (u'Kevan', 0.6260017156600952),\n",
       " (u'Jaime', 0.6103331446647644),\n",
       " (u'Kingslayer', 0.6058090925216675),\n",
       " (u'Lannister\\u2019s', 0.5899031758308411),\n",
       " (u'Casterly', 0.5866777896881104),\n",
       " (u'\\u201cTywin', 0.5864152908325195)]"
      ]
     },
     "execution_count": 109,
     "metadata": {},
     "output_type": "execute_result"
    }
   ],
   "source": [
    "throne2v.most_similar(\"Lannister\")"
   ]
  },
  {
   "cell_type": "code",
   "execution_count": 99,
   "metadata": {
    "collapsed": false
   },
   "outputs": [],
   "source": [
    "similar=throne2v.most_similar_cosmul(positive=[\"Stark\",\"Eddard\"],negative=[\"Catelyn\"])"
   ]
  },
  {
   "cell_type": "code",
   "execution_count": 100,
   "metadata": {
    "collapsed": false
   },
   "outputs": [
    {
     "name": "stdout",
     "output_type": "stream",
     "text": [
      "Torrhen\n"
     ]
    }
   ],
   "source": [
    "print similar[0][0]"
   ]
  },
  {
   "cell_type": "code",
   "execution_count": null,
   "metadata": {
    "collapsed": true
   },
   "outputs": [],
   "source": []
  }
 ],
 "metadata": {
  "kernelspec": {
   "display_name": "Python 2",
   "language": "python",
   "name": "python2"
  },
  "language_info": {
   "codemirror_mode": {
    "name": "ipython",
    "version": 2
   },
   "file_extension": ".py",
   "mimetype": "text/x-python",
   "name": "python",
   "nbconvert_exporter": "python",
   "pygments_lexer": "ipython2",
   "version": "2.7.13"
  }
 },
 "nbformat": 4,
 "nbformat_minor": 2
}
